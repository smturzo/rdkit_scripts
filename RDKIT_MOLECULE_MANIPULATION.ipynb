{
  "nbformat": 4,
  "nbformat_minor": 0,
  "metadata": {
    "colab": {
      "provenance": [],
      "authorship_tag": "ABX9TyOJ+i1Psu4BHsY81nUjAMcE",
      "include_colab_link": true
    },
    "kernelspec": {
      "name": "python3",
      "display_name": "Python 3"
    },
    "language_info": {
      "name": "python"
    }
  },
  "cells": [
    {
      "cell_type": "markdown",
      "metadata": {
        "id": "view-in-github",
        "colab_type": "text"
      },
      "source": [
        "<a href=\"https://colab.research.google.com/github/smturzo/rdkit_scripts/blob/main/RDKIT_MOLECULE_MANIPULATION.ipynb\" target=\"_parent\"><img src=\"https://colab.research.google.com/assets/colab-badge.svg\" alt=\"Open In Colab\"/></a>"
      ]
    },
    {
      "cell_type": "code",
      "source": [
        "# Install RDKit.\n",
        "%%capture\n",
        "!pip install rdkit"
      ],
      "metadata": {
        "id": "TpOatSEg_Xf1"
      },
      "execution_count": 2,
      "outputs": []
    },
    {
      "cell_type": "code",
      "execution_count": 3,
      "metadata": {
        "colab": {
          "base_uri": "https://localhost:8080/"
        },
        "id": "mSvWIE67_TbB",
        "outputId": "fbf5f2ec-84e5-4496-b2cc-e50d736dbfd2"
      },
      "outputs": [
        {
          "output_type": "stream",
          "name": "stdout",
          "text": [
            "12\n",
            "XYZ format of molecule A:\n",
            "C 0.7943 -1.1490 0.0150\n",
            "C 1.3607 0.1298 -0.0022\n",
            "C 0.5898 1.2681 -0.0170\n",
            "C -0.7866 1.1450 -0.0149\n",
            "C -1.3413 -0.1124 0.0019\n",
            "C -0.5806 -1.2656 0.0170\n",
            "H 1.4026 -2.0428 0.0267\n",
            "H 2.4183 0.2113 -0.0036\n",
            "H 1.0075 2.2686 -0.0304\n",
            "H -1.4182 2.0293 -0.0265\n",
            "H -2.4222 -0.2172 0.0037\n",
            "H -1.0241 -2.2652 0.0304\n",
            "12\n",
            "XYZ format of molecule B after translation:\n",
            "C 0.7943 -0.0150 -0.1490\n",
            "C 1.3607 0.0022 1.1298\n",
            "C 0.5898 0.0170 2.2681\n",
            "C -0.7866 0.0149 2.1450\n",
            "C -1.3413 -0.0019 0.8876\n",
            "C -0.5806 -0.0170 -0.2656\n",
            "H 1.4026 -0.0267 -1.0428\n",
            "H 2.4183 0.0036 1.2113\n",
            "H 1.0075 0.0304 3.2686\n",
            "H -1.4182 0.0265 3.0293\n",
            "H -2.4222 -0.0037 0.7828\n",
            "H -1.0241 -0.0304 -1.2652\n",
            "\n"
          ]
        }
      ],
      "source": [
        "from rdkit import Chem\n",
        "from rdkit.Chem import Draw\n",
        "from rdkit.Chem.Draw import IPythonConsole\n",
        "from rdkit.Chem import Descriptors\n",
        "from rdkit.Chem import AllChem\n",
        "#from rdkit.Geometry import Transform3D\n",
        "from rdkit.Geometry import rdGeometry as geom\n",
        "\n",
        "from rdkit import DataStructs\n",
        "import numpy as np\n",
        "from scipy.spatial.transform import Rotation as R\n",
        "from rdkit.Geometry import Point3D\n",
        "\n",
        "def rotate_molecule(mol, axis_vector, angle_degrees):\n",
        "    \"\"\"\n",
        "    Rotate coordinates around a given axis by a specified angle.\n",
        "\n",
        "    :param coordinates: Array of XYZ coordinates (Nx3)\n",
        "    :param axis_vector: Axis to rotate around\n",
        "    :      for example -> x: [1, 0, 0], y: [0, 1, 0], z: [0, 0, 1]\n",
        "    :                     xy:[1, 1, 0], yz:[0, 1, 1], xz:[1, 0, 1]\n",
        "    :param angle_degrees: Rotation angle in degrees\n",
        "    :return: Rotated coordinates (Nx3)\n",
        "    \"\"\"\n",
        "    # Get Conformation:\n",
        "    conf = mol.GetConformer()\n",
        "\n",
        "    # Create rotation object\n",
        "    rotation = R.from_rotvec(np.radians(angle_degrees) * np.array(axis_vector))\n",
        "\n",
        "    # Apply rotation to coordinates\n",
        "    for i in range(mol.GetNumAtoms()):\n",
        "      pos = conf.GetAtomPosition(i)\n",
        "      pos = np.array([pos.x, pos.y, pos.z])\n",
        "      rotated_coords = rotation.apply(pos)\n",
        "      conf.SetAtomPosition(i, Point3D(rotated_coords[0], rotated_coords[1], rotated_coords[2]))\n",
        "\n",
        "\n",
        "\n",
        "# Create a Transform3D object\n",
        "transform = Point3D()\n",
        "\n",
        "# Create a translation vector\n",
        "translation = np.array([0.0, 1.0, 0.0])#Point3D(0.0, 1.0, 0.0)\n",
        "\n",
        "# Create benzene molecule\n",
        "benzene = Chem.AddHs(Chem.MolFromSmiles('c1ccccc1'))\n",
        "AllChem.EmbedMolecule(benzene)\n",
        "\n",
        "# Convert benzene to XYZ format\n",
        "def mol_to_xyz(mol):\n",
        "    #mol = Chem.AddHs(mol)\n",
        "    conf = mol.GetConformer()\n",
        "    xyz = \"\"\n",
        "    for atom in mol.GetAtoms():\n",
        "        pos = conf.GetAtomPosition(atom.GetIdx())\n",
        "        xyz += f\"{atom.GetSymbol()} {pos.x:.4f} {pos.y:.4f} {pos.z:.4f}\\n\"\n",
        "    return xyz\n",
        "\n",
        "# Make a copy of the molecule\n",
        "benzene_B = Chem.Mol(benzene)\n",
        "\n",
        "# Translate the coordinates of the copied molecule\n",
        "def translate_molecule(mol, translation_vector):\n",
        "    conf = mol.GetConformer()\n",
        "    for i in range(mol.GetNumAtoms()):\n",
        "        pos = conf.GetAtomPosition(i)\n",
        "        new_pos = pos + translation_vector\n",
        "        conf.SetAtomPosition(i, new_pos)\n",
        "\n",
        "\n",
        "translate_molecule(benzene_B, translation)\n",
        "\n",
        "# Rotate molecule B by 30 degrees around the z-axis\n",
        "rotate_molecule(benzene_B, [1, 0, 0], 90)\n",
        "\n",
        "# Get XYZ formats\n",
        "xyz_A = mol_to_xyz(benzene)\n",
        "xyz_B = mol_to_xyz(benzene_B)\n",
        "\n",
        "\n",
        "print(f\"12\\nXYZ format of molecule A:\\n{xyz_A}12\\nXYZ format of molecule B after translation:\\n{xyz_B}\")\n"
      ]
    },
    {
      "cell_type": "code",
      "source": [],
      "metadata": {
        "id": "BoJC8YHK_T5x"
      },
      "execution_count": null,
      "outputs": []
    }
  ]
}